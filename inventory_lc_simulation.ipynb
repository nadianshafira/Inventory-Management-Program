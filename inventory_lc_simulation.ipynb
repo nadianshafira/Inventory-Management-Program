{
 "cells": [
  {
   "cell_type": "markdown",
   "metadata": {},
   "source": [
    "\"\"\"\"\n",
    "Nama        : Nadia Nabilla Shafira\n",
    "Batch       : HCK-009\n",
    "\n",
    "Objective   : Mengaplikasikan while loop ke dalam program Inventory Management\n",
    "\"\"\""
   ]
  },
  {
   "cell_type": "code",
   "execution_count": 1,
   "metadata": {},
   "outputs": [
    {
     "name": "stdout",
     "output_type": "stream",
     "text": [
      "[]\n"
     ]
    }
   ],
   "source": [
    "#Function agar user dapat menginput nama, kategori, dan harga barang\n",
    "\n",
    "data = []   #menyimpan list (nama, kategori, harga) ke data\n",
    "\n",
    "def inputBarang(nama, kategori, harga):\n",
    "    list = [nama, kategori, harga]  #menyimpan inputan ke list\n",
    "    \n",
    "    #barang yang diinput akan ditambahkan ke dalam data\n",
    "    data.append(list)\n",
    "\n",
    "#inputBarang(\"apel\", \"buah\", \"5000\")\n",
    "#inputBarang(\"teh\", \"minuman\", \"5000\")\n",
    "print(data)"
   ]
  },
  {
   "cell_type": "code",
   "execution_count": 2,
   "metadata": {},
   "outputs": [
    {
     "name": "stdout",
     "output_type": "stream",
     "text": [
      "Data Belum Ada\n"
     ]
    }
   ],
   "source": [
    "#Function untuk menampilkan inventory\n",
    "\n",
    "def showInventory():\n",
    "    if len(data) > 0:\n",
    "        counter = 1\n",
    "        \n",
    "        print(\"no.|Nama Barang|Kategori Barang|Harga Barang\")\n",
    "        for item in data:\n",
    "            print(str(counter) + \".\" + item[0] + \"|\" + item[1] + \"|\" + item[2])\n",
    "            counter += 1    #increment counter\n",
    "\n",
    "    else:\n",
    "        print(\"Data Belum Ada\")\n",
    "\n",
    "showInventory()"
   ]
  },
  {
   "cell_type": "code",
   "execution_count": 3,
   "metadata": {},
   "outputs": [
    {
     "name": "stdout",
     "output_type": "stream",
     "text": [
      "============================\n",
      "Program Inventory Management\n",
      "============================\n",
      "Menu: \n",
      "1. Input Data\n",
      "2. Menampilkan Data\n",
      "============================\n",
      " Menu Input Data Inventory\n",
      "============================\n",
      "Terima kasih, data sudah disimpan\n",
      "invalid\n",
      "============================\n",
      " Menu Input Data Inventory\n",
      "============================\n",
      "Terima kasih, data sudah disimpan\n",
      "============================\n",
      "   Menu Data Inventory\n",
      "============================\n",
      "no.|Nama Barang|Kategori Barang|Harga Barang\n",
      "1.lifebuoy|sabun|10000\n",
      "2.feminax|obat|2000\n",
      "Terima kasih, sampai jumpa!\n"
     ]
    }
   ],
   "source": [
    "print(\"============================\")\n",
    "print(\"Program Inventory Management\")\n",
    "print(\"============================\")\n",
    "\n",
    "print(\"Menu: \")\n",
    "print(\"1. Input Data\")\n",
    "print(\"2. Menampilkan Data\")\n",
    "\n",
    "\n",
    "while True:\n",
    "    inputMenu = input(\"pilih menu atau keluar: \")\n",
    "    if inputMenu == \"1\":\n",
    "        print(\"============================\")\n",
    "        print(\" Menu Input Data Inventory\")\n",
    "        print(\"============================\")\n",
    "        \n",
    "        namaBarang = input(\"Masukkan nama barang:\")\n",
    "        kategoriBarang = input(\"Masukkan kategori barang:\")\n",
    "        hargaBarang = input(\"Masukkan harga barang:\")\n",
    "\n",
    "        inputBarang(nama=namaBarang, kategori=kategoriBarang, harga=hargaBarang)\n",
    "\n",
    "        print(\"Terima kasih, data sudah disimpan\")\n",
    "    \n",
    "    elif inputMenu == \"2\":\n",
    "        print(\"============================\")\n",
    "        print(\"   Menu Data Inventory\")\n",
    "        print(\"============================\")\n",
    "        showInventory()\n",
    "    \n",
    "    elif inputMenu == \"exit\":\n",
    "        print(\"Terima kasih, sampai jumpa!\")\n",
    "        break\n",
    "\n",
    "    else:\n",
    "        print(\"invalid\")"
   ]
  }
 ],
 "metadata": {
  "kernelspec": {
   "display_name": "base",
   "language": "python",
   "name": "python3"
  },
  "language_info": {
   "codemirror_mode": {
    "name": "ipython",
    "version": 3
   },
   "file_extension": ".py",
   "mimetype": "text/x-python",
   "name": "python",
   "nbconvert_exporter": "python",
   "pygments_lexer": "ipython3",
   "version": "3.11.4"
  },
  "orig_nbformat": 4
 },
 "nbformat": 4,
 "nbformat_minor": 2
}
